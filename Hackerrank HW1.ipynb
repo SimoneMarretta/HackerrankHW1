{
 "cells": [
  {
   "cell_type": "markdown",
   "metadata": {},
   "source": [
    "# # ===== PROBLEM1 ====="
   ]
  },
  {
   "cell_type": "markdown",
   "metadata": {},
   "source": [
    "#  Exercise 1 - Introduction - Say \"Hello, World!\" With Python"
   ]
  },
  {
   "cell_type": "code",
   "execution_count": 2,
   "metadata": {},
   "outputs": [
    {
     "name": "stdout",
     "output_type": "stream",
     "text": [
      "Hello, World!\n"
     ]
    }
   ],
   "source": [
    "print (\"Hello, World!\")"
   ]
  },
  {
   "cell_type": "markdown",
   "metadata": {},
   "source": [
    "# Exercise 2 - Introduction - Python If-Else"
   ]
  },
  {
   "cell_type": "code",
   "execution_count": 3,
   "metadata": {},
   "outputs": [
    {
     "name": "stdout",
     "output_type": "stream",
     "text": [
      "1\n",
      "Weird\n"
     ]
    }
   ],
   "source": [
    "if __name__ == '__main__':\n",
    "    n = int(input().strip())\n",
    "\n",
    "if n % 2 == 0:\n",
    "    if 2<=n<=5:\n",
    "        print(\"Not Weird\")\n",
    "    elif 6<=n<=20:\n",
    "        print(\"Weird\")\n",
    "    elif n > 20:\n",
    "        print(\"Not Weird\")  \n",
    "else:\n",
    "    print(\"Weird\")"
   ]
  },
  {
   "cell_type": "markdown",
   "metadata": {},
   "source": [
    "# Exercise 3 - Introduction - Arithmetic Operators"
   ]
  },
  {
   "cell_type": "code",
   "execution_count": 4,
   "metadata": {},
   "outputs": [
    {
     "name": "stdout",
     "output_type": "stream",
     "text": [
      "3\n",
      "Weird\n"
     ]
    }
   ],
   "source": [
    "if __name__ == '__main__':\n",
    "    n = int(input().strip())\n",
    "def weird_function(n):\n",
    "\n",
    "    if n % 2 == 0:\n",
    "        if 2<=n<=5:\n",
    "            print(\"Not Weird\")\n",
    "        elif 6<=n<=20:\n",
    "            print(\"Weird\")\n",
    "        elif n > 20:\n",
    "            print(\"Not Weird\")  \n",
    "    else:\n",
    "        print(\"Weird\")\n",
    "weird_function(n)        \n"
   ]
  },
  {
   "cell_type": "markdown",
   "metadata": {},
   "source": [
    "# Exercise 4 - Introduction - Python: Division"
   ]
  },
  {
   "cell_type": "code",
   "execution_count": 5,
   "metadata": {},
   "outputs": [
    {
     "name": "stdout",
     "output_type": "stream",
     "text": [
      "3\n",
      "2\n",
      "5\n",
      "1\n",
      "6\n"
     ]
    }
   ],
   "source": [
    "if __name__ == '__main__':\n",
    "    a = int(input())\n",
    "    b = int(input())\n",
    "print(a+b)\n",
    "print(a-b)\n",
    "print(a*b)    \n"
   ]
  },
  {
   "cell_type": "markdown",
   "metadata": {},
   "source": [
    "# Exercise 5 - Introduction - Loops"
   ]
  },
  {
   "cell_type": "code",
   "execution_count": null,
   "metadata": {},
   "outputs": [],
   "source": [
    "if __name__ == '__main__':\n",
    "    n = int(input())\n",
    "\n",
    "for i in range(n):\n",
    "    print(i*i)"
   ]
  },
  {
   "cell_type": "markdown",
   "metadata": {},
   "source": [
    "# Exercise 6 - Introduction - Write a function"
   ]
  },
  {
   "cell_type": "code",
   "execution_count": null,
   "metadata": {},
   "outputs": [],
   "source": [
    "def is_leap(year):\n",
    "    leap = False\n",
    "    if year % 4 ==0:\n",
    "        if year % 100 ==0:\n",
    "            if year % 400 == 0:\n",
    "                return True\n",
    "            else :\n",
    "                return leap\n",
    "        else:\n",
    "            return True\n",
    "                        \n",
    "    \n",
    "    \n",
    "    return leap  \n",
    "\n"
   ]
  },
  {
   "cell_type": "markdown",
   "metadata": {},
   "source": [
    "# Exercise 7 - Introduction - Print Function"
   ]
  },
  {
   "cell_type": "code",
   "execution_count": null,
   "metadata": {},
   "outputs": [],
   "source": [
    "if __name__ == '__main__':\n",
    "    n = int(input())\n",
    "    \n",
    "s = \"\"    \n",
    "for i in range(n):\n",
    "    \n",
    "    s += str(i+1)\n",
    "print(s)   \n",
    "\n"
   ]
  },
  {
   "cell_type": "markdown",
   "metadata": {},
   "source": [
    "# Exercise 8 - Basic data types - List Comprehensions"
   ]
  },
  {
   "cell_type": "code",
   "execution_count": null,
   "metadata": {},
   "outputs": [],
   "source": [
    "if __name__ == '__main__':\n",
    "    x = int(input())\n",
    "    y = int(input())\n",
    "    z = int(input())\n",
    "    n = int(input())\n",
    "print([[i,j,k] for i in range(x+1) for j in range(y+1) for k in range(z+1) if ((i + j +k) != n)])"
   ]
  },
  {
   "cell_type": "markdown",
   "metadata": {},
   "source": [
    "# Exercise 9 - Basic data types - Find the Runner-Up Score!"
   ]
  },
  {
   "cell_type": "code",
   "execution_count": null,
   "metadata": {},
   "outputs": [],
   "source": [
    "if __name__ == '__main__':\n",
    "    n = int(input())\n",
    "    arr = map(int, input().split())\n",
    "l = list(arr)\n",
    "l.sort()    \n",
    "\n",
    "final_list = [] \n",
    "for num in l: \n",
    "        if num not in final_list: \n",
    "            final_list.append(num) \n",
    "print(final_list[-2])    "
   ]
  },
  {
   "cell_type": "markdown",
   "metadata": {},
   "source": [
    "# Exercise 10 - Basic data types - Nested Lists"
   ]
  },
  {
   "cell_type": "code",
   "execution_count": null,
   "metadata": {},
   "outputs": [],
   "source": [
    "if __name__ == '__main__':\n",
    "    l = []\n",
    "second_lowest_names = []\n",
    "scores = set()\n",
    "\n",
    "for i in range(int(input())):\n",
    "    name = input()\n",
    "    score = float(input())\n",
    "    l.append([name, score])\n",
    "    scores.add(score)\n",
    "        \n",
    "second_lowest = sorted(scores)[1]\n",
    "\n",
    "for name, score in l:\n",
    "    if score == second_lowest:\n",
    "        second_lowest_names.append(name)\n",
    "\n",
    "for name in sorted(second_lowest_names):\n",
    "    print(name, end='\\n')\n",
    "\n"
   ]
  },
  {
   "cell_type": "markdown",
   "metadata": {},
   "source": [
    "# Exercise 11 - Basic data types - Finding the percentage"
   ]
  },
  {
   "cell_type": "code",
   "execution_count": null,
   "metadata": {},
   "outputs": [],
   "source": [
    "if __name__ == '__main__':\n",
    "    n = int(input())\n",
    "    student_marks = {}\n",
    "    for _ in range(n):\n",
    "        name, *line = input().split()\n",
    "        scores = list(map(float, line))\n",
    "        student_marks[name] = scores\n",
    "    query_name = input()\n",
    "t =student_marks[query_name]\n",
    "ciao = sum(t)/3\n",
    "print(f\"{ciao:.2f}\")"
   ]
  },
  {
   "cell_type": "markdown",
   "metadata": {},
   "source": [
    "# Exercise 12 - Basic data types - Lists"
   ]
  },
  {
   "cell_type": "code",
   "execution_count": null,
   "metadata": {},
   "outputs": [],
   "source": [
    "if __name__ == '__main__':\n",
    "    \n",
    "   l = []\n",
    "   n = int(input())\n",
    "\n",
    "for i in range(n):\n",
    "\n",
    "    a = input().split()\n",
    "\n",
    "    if a[0] == 'insert':\n",
    "\n",
    "        l.insert(int(a[1]),int(a[2]))\n",
    "\n",
    "    elif a[0] == 'append':\n",
    "\n",
    "        l.append(int(a[1]))\n",
    "\n",
    "    elif a[0] == 'pop':\n",
    "\n",
    "        l.pop()\n",
    "\n",
    "    elif a[0]=='print':\n",
    "\n",
    "        print(l)\n",
    "\n",
    "    elif a[0]=='remove':\n",
    "\n",
    "        k.remove(int(a[1]))\n",
    "\n",
    "    elif a[0]=='sort':\n",
    "\n",
    "        l.sort()\n",
    "\n",
    "    else:\n",
    "\n",
    "        l.reverse()\n",
    "    \n",
    "\n"
   ]
  },
  {
   "cell_type": "markdown",
   "metadata": {},
   "source": [
    "# Exercise 13 - Basic data types - Tuples"
   ]
  },
  {
   "cell_type": "code",
   "execution_count": null,
   "metadata": {},
   "outputs": [],
   "source": [
    "if __name__ == '__main__':\n",
    "    n = int(input())\n",
    "    integer_list = map(int, input().split())\n",
    "\n",
    "t = tuple(integer_list)\n",
    "print(hash(t))\n"
   ]
  },
  {
   "cell_type": "markdown",
   "metadata": {},
   "source": [
    "# Exercise 14 - Strings - sWAP cASE"
   ]
  },
  {
   "cell_type": "code",
   "execution_count": null,
   "metadata": {},
   "outputs": [],
   "source": [
    "def swap_case(s):\n",
    "    t = []\n",
    "    for c in s:\n",
    "        if c.isupper():\n",
    "            c =c.lower()\n",
    "            t.append(c)\n",
    "        else:\n",
    "            c =c.upper()\n",
    "            t.append(c)    \n",
    "    return ''.join(t)"
   ]
  },
  {
   "cell_type": "markdown",
   "metadata": {},
   "source": [
    "# Exercise 15 - Strings - String Split and Join"
   ]
  },
  {
   "cell_type": "code",
   "execution_count": null,
   "metadata": {},
   "outputs": [],
   "source": [
    "def split_and_join(line):\n",
    "    \n",
    "    x =line.split(\" \")\n",
    "    t = \"-\".join(x)\n",
    "    return t"
   ]
  },
  {
   "cell_type": "markdown",
   "metadata": {},
   "source": [
    "# Exercise 16 - Strings - What's Your Name?"
   ]
  },
  {
   "cell_type": "code",
   "execution_count": null,
   "metadata": {},
   "outputs": [],
   "source": [
    "def print_full_name(a, b):\n",
    "    print(\"Hello {} {}! You just delved into python.\".format(a,b))"
   ]
  },
  {
   "cell_type": "markdown",
   "metadata": {},
   "source": [
    "# Exercise 17 - Strings - Mutations"
   ]
  },
  {
   "cell_type": "code",
   "execution_count": null,
   "metadata": {},
   "outputs": [],
   "source": [
    "def mutate_string(string, position, character):\n",
    "    t=list(string)\n",
    "    t[position]=character\n",
    "    p = ''.join(t)\n",
    "    return p"
   ]
  },
  {
   "cell_type": "markdown",
   "metadata": {},
   "source": [
    "# Exercise 18 - Strings - Find a string"
   ]
  },
  {
   "cell_type": "code",
   "execution_count": null,
   "metadata": {},
   "outputs": [],
   "source": [
    "def count_substring(string,sub_string):\n",
    "    count = 0\n",
    "    x = len(sub_string)\n",
    "    for i in range(len(string)):\n",
    "        if string[i:i+x]==sub_string:\n",
    "            count +=1\n",
    "    return count        \n",
    "              \n"
   ]
  },
  {
   "cell_type": "markdown",
   "metadata": {},
   "source": [
    "# Exercise 19 - Strings - String Validators"
   ]
  },
  {
   "cell_type": "code",
   "execution_count": null,
   "metadata": {},
   "outputs": [],
   "source": [
    "if __name__ == '__main__':\n",
    "    s = input()\n",
    "    count = 0\n",
    "for letter in s:\n",
    "\n",
    "        if letter.isalnum() == True:\n",
    "            count = 1\n",
    "            print(True)\n",
    "            break\n",
    "            \n",
    "if count == 0:\n",
    "    print(False)           \n",
    "\n",
    "count = 0                          \n",
    "for letter in s:\n",
    "        if letter.isalpha() == True:\n",
    "            count=1\n",
    "            print(True)\n",
    "            break\n",
    "if count == 0:\n",
    "    print(False)\n",
    "count = 0            \n",
    "        \n",
    "        \n",
    "for letter in s:            \n",
    "        if letter.isdigit() == True:\n",
    "            count = 1\n",
    "            print(True)\n",
    "            break\n",
    "if count == 0:\n",
    "    print(False)\n",
    "count =0            \n",
    "    \n",
    "for letter in s:            \n",
    "        if letter.islower()== True:\n",
    "            count = 1\n",
    "            print(True)\n",
    "            break\n",
    "if count == 0:\n",
    "    print(False)\n",
    "count = 0            \n",
    "    \n",
    "for letter in s:           \n",
    "        if letter.isupper()== True:\n",
    "            count = 1\n",
    "            print(True)\n",
    "            break\n",
    "if count == 0:\n",
    "        print (False)\n",
    "\n"
   ]
  },
  {
   "cell_type": "markdown",
   "metadata": {},
   "source": [
    "# Exercise 20 - Strings - Text Alignment"
   ]
  },
  {
   "cell_type": "code",
   "execution_count": null,
   "metadata": {},
   "outputs": [],
   "source": [
    "#Replace all ______ with rjust, ljust or center. \n",
    "\n",
    "thickness = int(input()) #This must be an odd number\n",
    "c = 'H'\n",
    "\n",
    "#Top Cone\n",
    "for i in range(thickness):\n",
    "    print((c*i).rjust(thickness-1)+c+(c*i).ljust(thickness-1))\n",
    "\n",
    "#Top Pillars\n",
    "for i in range(thickness+1):\n",
    "    print((c*thickness).center(thickness*2)+(c*thickness).center(thickness*6))\n",
    "\n",
    "#Middle Belt\n",
    "for i in range((thickness+1)//2):\n",
    "    print((c*thickness*5).center(thickness*6))    \n",
    "\n",
    "#Bottom Pillars\n",
    "for i in range(thickness+1):\n",
    "    print((c*thickness).center(thickness*2)+(c*thickness).center(thickness*6))    \n",
    "\n",
    "#Bottom Cone\n",
    "for i in range(thickness):\n",
    "    print(((c*(thickness-i-1)).rjust(thickness)+c+(c*(thickness-i-1)).ljust(thickness)).rjust(thickness*6))\n",
    "\n"
   ]
  },
  {
   "cell_type": "markdown",
   "metadata": {},
   "source": [
    "# Exercise 21 - Strings - Text Wrap"
   ]
  },
  {
   "cell_type": "code",
   "execution_count": null,
   "metadata": {},
   "outputs": [],
   "source": [
    "def wrap(string, max_width):\n",
    "    wrapped = textwrap.fill(string,max_width)\n",
    "\n",
    "    return wrapped"
   ]
  },
  {
   "cell_type": "markdown",
   "metadata": {},
   "source": [
    "# Exercise 22 - Strings - Designer Door Mat"
   ]
  },
  {
   "cell_type": "code",
   "execution_count": null,
   "metadata": {},
   "outputs": [],
   "source": [
    "# Enter your code here. Read input from STDIN. Print output to STDOUT\n",
    "N, M = map(int,input().split())\n",
    "for i in range(1,N,2): \n",
    "    print(int((M-3*i)/2)*'-'+(i*'.|.')+int((M-3*i)/2)*'-')\n",
    "print(int((M-7)/2)*'-'+'WELCOME'+int((M-7)/2)*'-')\n",
    "for i in range(N-2,-1,-2): \n",
    "    print(int((M-3*i)/2)*'-'+(i*'.|.')+int((M-3*i)/2)*'-')\n"
   ]
  },
  {
   "cell_type": "markdown",
   "metadata": {},
   "source": [
    "# Exercise 23 - Strings - String Formatting"
   ]
  },
  {
   "cell_type": "code",
   "execution_count": null,
   "metadata": {},
   "outputs": [],
   "source": [
    "def print_formatted(number):\n",
    "    for i in range(1,number+1):\n",
    "        wi=len(str(bin(number)[2:]))\n",
    "        print(str(i).rjust(wi,' '),str(oct(i)[2:]).rjust(wi,' '),str(hex(i)[2:]).upper().rjust(wi,' '),str((bin(i)[2:]).rjust(wi,' ')),sep = ' ')\n",
    "        "
   ]
  },
  {
   "cell_type": "markdown",
   "metadata": {},
   "source": [
    "# Exercise 24 - Strings - Alphabet Rangoli"
   ]
  },
  {
   "cell_type": "code",
   "execution_count": null,
   "metadata": {},
   "outputs": [],
   "source": [
    "import string\n",
    "def print_rangoli(size):\n",
    "    alpha = string.ascii_lowercase\n",
    "    for i in range(n - 1, 0, -1):\n",
    "        row = [\"-\"] * (n * 2 - 1)\n",
    "        for j in range(0, n - i):\n",
    "            row[n - 1 - j] = alpha[j + i]\n",
    "            row[n - 1 + j] = alpha[j + i]\n",
    "        print(\"-\".join(row))\n",
    "\n",
    "    for i in range(0, n):\n",
    "        row = [\"-\"] * (n * 2 - 1)\n",
    "        for j in range(0, n - i):\n",
    "            row[n - 1 - j] = alpha[j + i]\n",
    "            row[n - 1 + j] = alpha[j + i]\n",
    "        print(\"-\".join(row))\n",
    "\n"
   ]
  },
  {
   "cell_type": "markdown",
   "metadata": {},
   "source": [
    "# Exercise 25 - Strings - Capitalize!"
   ]
  },
  {
   "cell_type": "code",
   "execution_count": null,
   "metadata": {},
   "outputs": [],
   "source": [
    "def solve(s):\n",
    "    l = []\n",
    "    q = s.split(' ')\n",
    "    for names in q:\n",
    "        l.append(names.capitalize())\n",
    "    return ' '.join(l)\n",
    "print(solve('hello world  lol'))  \n",
    "    "
   ]
  },
  {
   "cell_type": "markdown",
   "metadata": {},
   "source": [
    "# Exercise 26 - Strings - The Minion Game"
   ]
  },
  {
   "cell_type": "code",
   "execution_count": null,
   "metadata": {},
   "outputs": [],
   "source": [
    "def minion_game(string):\n",
    "    vowels = ['A','E','I','O','U']\n",
    "    count_Kevin = 0\n",
    "    count_Stuart = 0\n",
    "    for i in range(len(string)):\n",
    "        if string[i] not in vowels:\n",
    "            count_Stuart += len(string)-i\n",
    "        else:\n",
    "            count_Kevin += len(string)-i\n",
    "    if count_Kevin == count_Stuart:\n",
    "        print('Draw')\n",
    "    if count_Kevin > count_Stuart:\n",
    "        print('Kevin',count_Kevin)\n",
    "    if count_Kevin < count_Stuart:\n",
    "        print('Stuart',count_Stuart)        \n",
    "            \n",
    "        \n",
    "\n",
    "        \n",
    "    \n",
    "\n",
    "    \n",
    "\n",
    "\n",
    "\n"
   ]
  },
  {
   "cell_type": "markdown",
   "metadata": {},
   "source": [
    "# Exercise 27 - Strings - Merge the Tools!"
   ]
  },
  {
   "cell_type": "code",
   "execution_count": null,
   "metadata": {},
   "outputs": [],
   "source": [
    "def merge_the_tools(string, k):\n",
    "\n",
    "    temp = []\n",
    "    len_temp = 0\n",
    "    for item in string:\n",
    "        len_temp += 1\n",
    "        if item not in temp:\n",
    "            temp.append(item)\n",
    "        if len_temp == k:\n",
    "            print (''.join(temp))\n",
    "            temp = []\n",
    "            len_temp = 0 \n",
    "                    "
   ]
  },
  {
   "cell_type": "markdown",
   "metadata": {},
   "source": [
    "# Exercise 28 - Sets - Introduction to Sets"
   ]
  },
  {
   "cell_type": "code",
   "execution_count": null,
   "metadata": {},
   "outputs": [],
   "source": [
    "def average(array):\n",
    "    c =set(array)\n",
    "    summa = sum(c)\n",
    "    total = summa/len(c)\n",
    "    return total"
   ]
  },
  {
   "cell_type": "markdown",
   "metadata": {},
   "source": [
    "# Exercise 29 - Sets - No Idea!"
   ]
  },
  {
   "cell_type": "code",
   "execution_count": null,
   "metadata": {},
   "outputs": [],
   "source": [
    "n,m=map(int,input().split())\n",
    "l = list(map(int,input().split()))\n",
    "s_a=set(map(int,input().split()))\n",
    "s_b=set(map(int,input().split()))\n",
    "happiness = 0\n",
    "for i in range(n):\n",
    "    if l[i] in s_a:\n",
    "        happiness+=1\n",
    "    if l[i] in s_b:\n",
    "        happiness-=1\n",
    "print(happiness)    \n"
   ]
  },
  {
   "cell_type": "markdown",
   "metadata": {},
   "source": [
    "# Exercise 30 - Sets - Symmetric Difference"
   ]
  },
  {
   "cell_type": "code",
   "execution_count": null,
   "metadata": {},
   "outputs": [],
   "source": [
    "m = input().split()\n",
    "set1=set(list(map(int,input().split())))\n",
    "n = input().split()\n",
    "set2=set(list(map(int,input().split())))\n",
    "list_difference_set1_set2=list(set1.difference(set2))\n",
    "list_difference_set2_set1=list(set2.difference(set1))\n",
    "merged_list=list_difference_set1_set2+list_difference_set2_set1\n",
    "merged_list.sort()\n",
    "for elem in merged_list:\n",
    "    print(elem)\n"
   ]
  },
  {
   "cell_type": "markdown",
   "metadata": {},
   "source": [
    "# Exercise 31 - Sets - Set .add()"
   ]
  },
  {
   "cell_type": "code",
   "execution_count": null,
   "metadata": {},
   "outputs": [],
   "source": [
    "n = int(input())\n",
    "s = set()\n",
    "for i in range(n):\n",
    "    string = input()\n",
    "    s.add(string)\n",
    "print(len(s))"
   ]
  },
  {
   "cell_type": "markdown",
   "metadata": {},
   "source": [
    "# Exercise 32 - Sets - Set .discard(), .remove() & .pop()"
   ]
  },
  {
   "cell_type": "code",
   "execution_count": null,
   "metadata": {},
   "outputs": [],
   "source": [
    "set_number_elem = int(input())\n",
    "s = set(map(int, input().split()))\n",
    "commands_number = int(input())\n",
    "for i in range(commands_number):\n",
    "    temp_inp = input()\n",
    "    try:\n",
    "        command,m = temp_inp.split()\n",
    "    except: \n",
    "        command = temp_inp\n",
    "    if command == 'pop':\n",
    "        s.pop()\n",
    "    elif command == 'remove':\n",
    "        s.remove(int(m))\n",
    "    elif command == 'discard':\n",
    "        s.discard(int(m))\n",
    "print(sum(s))             \n",
    "        \n",
    "\n",
    "    \n"
   ]
  },
  {
   "cell_type": "markdown",
   "metadata": {},
   "source": [
    "# Exercise 33 - Sets - Set .union() Operation"
   ]
  },
  {
   "cell_type": "code",
   "execution_count": null,
   "metadata": {},
   "outputs": [],
   "source": [
    "n1 = input()\n",
    "s1=set(input().split())\n",
    "n2= input()\n",
    "s2=set(input().split())\n",
    "print(len(s1 | s2))\n"
   ]
  },
  {
   "cell_type": "markdown",
   "metadata": {},
   "source": [
    "# Exercise 34 - Sets - Set .intersection() Operation"
   ]
  },
  {
   "cell_type": "code",
   "execution_count": null,
   "metadata": {},
   "outputs": [],
   "source": [
    "n1 = input()\n",
    "s1=set(input().split())\n",
    "n2= input()\n",
    "s2=set(input().split())\n",
    "\n",
    "print(len(s1.intersection(s2)))"
   ]
  },
  {
   "cell_type": "markdown",
   "metadata": {},
   "source": [
    "# Exercise 35 - Sets - Set .difference() Operation"
   ]
  },
  {
   "cell_type": "code",
   "execution_count": null,
   "metadata": {},
   "outputs": [],
   "source": [
    "n1 = input()\n",
    "s1 = set(input().split())\n",
    "n2=(input())\n",
    "s2 = set(input().split())\n",
    "print(len(s1.difference(s2)))"
   ]
  },
  {
   "cell_type": "markdown",
   "metadata": {},
   "source": [
    "# Exercise 36 - Sets - Set .symmetric_difference() Operation"
   ]
  },
  {
   "cell_type": "code",
   "execution_count": null,
   "metadata": {},
   "outputs": [],
   "source": [
    "n1 = input()\n",
    "s1 = set(input().split())\n",
    "n2=(input())\n",
    "s2 = set(input().split())\n",
    "print(len(s1.symmetric_difference(s2)))"
   ]
  },
  {
   "cell_type": "markdown",
   "metadata": {},
   "source": [
    "# Exercise 37 - Sets - Set Mutations"
   ]
  },
  {
   "cell_type": "code",
   "execution_count": null,
   "metadata": {},
   "outputs": [],
   "source": [
    "m = int(input())\n",
    "set1=set(map(int,input().split()))\n",
    "n = int(input())\n",
    "for m in range(n):\n",
    "    command,m  = input().split()\n",
    "    set2= set(map(int,input().split()))\n",
    "    if(command == \"intersection_update\"):\n",
    "        set1.intersection_update(set2)\n",
    "    elif(command == \"update\"):\n",
    "        set1.update(set2)\n",
    "    elif(command == \"symmetric_difference_update\"):\n",
    "        set1.symmetric_difference_update(set2)\n",
    "    elif(command == \"difference_update\"):\n",
    "        set1.difference_update(set2)\n",
    "print(sum(set1))\n",
    "    \n",
    "     \n"
   ]
  },
  {
   "cell_type": "markdown",
   "metadata": {},
   "source": [
    "# Exercise 38 - Sets - The Captain's Room"
   ]
  },
  {
   "cell_type": "code",
   "execution_count": null,
   "metadata": {},
   "outputs": [],
   "source": [
    "k = int(input())\n",
    "l1 = list(map(int,input().split()))\n",
    "l1.sort()\n",
    "for i in range(len(l1)):\n",
    "    if i == 0:\n",
    "        if l1[0] != l1[1]:\n",
    "            print(l1[0])\n",
    "    elif i == (len(l1)-1):\n",
    "        if l1[i] != l1[i-1]:\n",
    "            print(l1[i])\n",
    "    else:\n",
    "        if l1[i]!=l1[i-1]:\n",
    "            if l1[i]!=l1[i+1]:\n",
    "                print(l1[i])"
   ]
  },
  {
   "cell_type": "markdown",
   "metadata": {},
   "source": [
    "# Exercise 39 - Sets - Check Subset"
   ]
  },
  {
   "cell_type": "code",
   "execution_count": null,
   "metadata": {},
   "outputs": [],
   "source": [
    "t = int(input())\n",
    "for i in range(t):\n",
    "\n",
    "    n_set1=int(input())\n",
    "    set_a=set(map(int,input().split()))\n",
    "    n_setb=int(input())\n",
    "    set_b=set(map(int,input().split()))\n",
    "    c = set_a.intersection(set_b)\n",
    "    if c == set_a:\n",
    "        print(True)\n",
    "    else:\n",
    "        print(False)    \n"
   ]
  },
  {
   "cell_type": "markdown",
   "metadata": {},
   "source": [
    "# Exercise 40 - Sets - Check Strict Superset"
   ]
  },
  {
   "cell_type": "code",
   "execution_count": null,
   "metadata": {},
   "outputs": [],
   "source": [
    "set1 = set(map(int,input().split()))\n",
    "n = int(input())\n",
    "t = 0\n",
    "\n",
    "for i in range(n):\n",
    "\n",
    "    \n",
    "    set2=set(map(int,input().split()))\n",
    "    \n",
    "\n",
    "    c = set2.intersection(set1)\n",
    "    \n",
    "    if c == set2 and set1 != set2:\n",
    "        \n",
    "        t += 1\n",
    "        \n",
    "        \n",
    "    else:\n",
    "        print(False)\n",
    "        break\n",
    "if t == n:\n",
    "    print(True)\n",
    "   "
   ]
  },
  {
   "cell_type": "markdown",
   "metadata": {},
   "source": [
    "# Exercise 41 - Collections - collections.Counter()"
   ]
  },
  {
   "cell_type": "code",
   "execution_count": null,
   "metadata": {},
   "outputs": [],
   "source": [
    "from collections import Counter\n",
    "total = 0\n",
    "shoes_number = int(input())\n",
    "shoes_list = list(map(int,input().split()))\n",
    "count_shoes_list = Counter(shoes_list)\n",
    "customers_number = int(input())\n",
    "for i in range(customers_number):\n",
    "    number,price=list(map(int,input().split()))\n",
    "    if number in count_shoes_list:\n",
    "        if count_shoes_list[number] == 0:\n",
    "            del count_shoes_list[number]\n",
    "        else:\n",
    "            count_shoes_list[number]-=1\n",
    "            total+=price  \n",
    "print(total)      \n"
   ]
  },
  {
   "cell_type": "markdown",
   "metadata": {},
   "source": [
    "# Exercise 42 - Collections - DefaultDict Tutorial"
   ]
  },
  {
   "cell_type": "code",
   "execution_count": null,
   "metadata": {},
   "outputs": [],
   "source": [
    "from collections import defaultdict\n",
    "\n",
    "n, m = map(int, input().split(' '))\n",
    "\n",
    "input1 = list()\n",
    "for i in range(n):\n",
    "    input1.append(input())\n",
    "\n",
    "    input2 = list()\n",
    "for i in range(m):\n",
    "    input2.append(input())\n",
    "\n",
    "\n",
    "d = defaultdict(list)\n",
    "\n",
    "\n",
    "for i in range(n):\n",
    "    d[input1[i]].append(i+1)\n",
    "for i in input2:    \n",
    "    if i in d:\n",
    "        print(*d[i])\n",
    "    else:\n",
    "        print(-1)\n",
    "\n",
    "\n",
    "\n",
    "\n"
   ]
  },
  {
   "cell_type": "markdown",
   "metadata": {},
   "source": [
    "# Exercise 43 - Collections - Collections.namedtuple()"
   ]
  },
  {
   "cell_type": "code",
   "execution_count": null,
   "metadata": {},
   "outputs": [],
   "source": [
    "from collections import namedtuple\n",
    "\n",
    "N = int(input())\n",
    "columns = input().split()\n",
    "average_marks = 0\n",
    "for i in range(N):\n",
    "    students = namedtuple('student',columns)\n",
    "    column1, column2, column3,column4 = input().split()\n",
    "    student = students(column1,column2,column3,column4)\n",
    "    average_marks += int(student.MARKS)\n",
    "print('{:.2f}'.format(average_marks/N))"
   ]
  },
  {
   "cell_type": "markdown",
   "metadata": {},
   "source": [
    "# Exercise 44 - Collections - Collections.OrderedDict()"
   ]
  },
  {
   "cell_type": "code",
   "execution_count": null,
   "metadata": {},
   "outputs": [],
   "source": [
    "from collections import OrderedDict\n",
    "n=int(input())\n",
    "ordered_dictionary=OrderedDict()\n",
    "for i in range(n):\n",
    "    x=list(input().split())\n",
    "    item=' '.join(x[:-1])\n",
    "    price=int(x[-1])\n",
    "    \n",
    "    if item_name in ordered_dictionary:\n",
    "        ordered_dictionary[item]+=price\n",
    "    else:\n",
    "        ordered_dictionary[item]=price\n",
    "for i in ordered_dictionary:\n",
    "    print(i,ordered_dictionary[i])\n"
   ]
  },
  {
   "cell_type": "markdown",
   "metadata": {},
   "source": [
    "# Exercise 45 - Collections - Word Order"
   ]
  },
  {
   "cell_type": "code",
   "execution_count": null,
   "metadata": {},
   "outputs": [],
   "source": [
    "from collections import OrderedDict\n",
    "ordered_dict = OrderedDict()\n",
    "n = int(input())\n",
    "for i in range(n):\n",
    "    word = input()\n",
    "    ordered_dict[word] = ordered_dict.get(word, 0) + 1\n",
    "print(len(ordered_dict))\n",
    "for item in ordered_dict:\n",
    "    print(ordered_dict[item], end=' ')"
   ]
  },
  {
   "cell_type": "markdown",
   "metadata": {},
   "source": [
    "# Exercise 46 - Collections - Collections.deque()"
   ]
  },
  {
   "cell_type": "code",
   "execution_count": null,
   "metadata": {},
   "outputs": [],
   "source": [
    "from collections import deque\n",
    "n = int(input())\n",
    "\n",
    "d = deque()\n",
    "for n in range(n):\n",
    "    command=input().split()\n",
    "\n",
    "    if command[0] == 'append':\n",
    "        d.append(command[1])\n",
    "    elif command[0] == 'pop':\n",
    "        d.pop()\n",
    "    elif command[0] == 'popleft':\n",
    "        d.popleft()\n",
    "    elif command[0] == 'appendleft':\n",
    "        d.appendleft(command[1])\n",
    "print(' '.join(d))   "
   ]
  },
  {
   "cell_type": "markdown",
   "metadata": {},
   "source": [
    "# Exercise 47 - Collections - Company Logo"
   ]
  },
  {
   "cell_type": "code",
   "execution_count": null,
   "metadata": {},
   "outputs": [],
   "source": [
    "I Tried to find a solution but I failed."
   ]
  },
  {
   "cell_type": "markdown",
   "metadata": {},
   "source": [
    "# Exercise 48 - Collections - Piling Up!"
   ]
  },
  {
   "cell_type": "code",
   "execution_count": null,
   "metadata": {},
   "outputs": [],
   "source": [
    "from collections import deque\n",
    "for _ in range(int(input())):\n",
    "    _, deq = input(), deque(map(int, input().split()))\n",
    "    while len(deq) > 1:\n",
    "        if deq[0] >= deq[1]:\n",
    "            deq.popleft()\n",
    "        elif deq[-1] >= deq[-2]:\n",
    "            deq.pop()\n",
    "        else:\n",
    "            print('No')\n",
    "            break\n",
    "    else:\n",
    "        print('Yes')"
   ]
  },
  {
   "cell_type": "markdown",
   "metadata": {},
   "source": [
    "# Exercise 49 - Date time - Calendar Module"
   ]
  },
  {
   "cell_type": "code",
   "execution_count": null,
   "metadata": {},
   "outputs": [],
   "source": [
    "import calendar\n",
    "calendar.setfirstweekday(calendar.SUNDAY)\n",
    "m,d,y=list(map(int,input().split()))\n",
    "c=calendar.weekday(y, m, d)\n",
    "list_of_days = ['MONDAY','TUESDAY','WEDNESDAY','THURSDAY','FRIDAY','SATURDAY','SUNDAY']\n",
    "print(list_of_days[c])"
   ]
  },
  {
   "cell_type": "markdown",
   "metadata": {},
   "source": [
    "# Exercise 50 - Date time - Time Delta"
   ]
  },
  {
   "cell_type": "code",
   "execution_count": null,
   "metadata": {},
   "outputs": [],
   "source": [
    "from datetime import datetime\n",
    "def time_delta(t1, t2):\n",
    "    pattern = '%a %d %b %Y %H:%M:%S %z'\n",
    "    first_period =int(datetime.strptime(t1,pattern).timestamp())\n",
    "    second_period =int(datetime.strptime(t2,pattern).timestamp())\n",
    "    difference=first_period-second_period\n",
    "    return str(abs(difference))\n",
    "\n",
    "if __name__ == '__main__':\n",
    "    fptr = open(os.environ['OUTPUT_PATH'], 'w')\n",
    "\n",
    "    t = int(input())\n",
    "\n",
    "    for t_itr in range(t):\n",
    "        t1 = input()\n",
    "\n",
    "        t2 = input()\n",
    "\n",
    "        delta = time_delta(t1, t2)\n",
    "\n",
    "        fptr.write(delta + '\\n')\n",
    "\n",
    "    fptr.close()"
   ]
  },
  {
   "cell_type": "markdown",
   "metadata": {},
   "source": [
    "# Exercise 51 - Exceptions"
   ]
  },
  {
   "cell_type": "code",
   "execution_count": null,
   "metadata": {},
   "outputs": [],
   "source": [
    "n = int(input())\n",
    "\n",
    "\n",
    "for i in range(n):\n",
    "    try:\n",
    "        a,b = map(int,input().split())\n",
    "    \n",
    "        print (a//b)\n",
    "    except ZeroDivisionError as e:\n",
    "        print (\"Error Code:\",e)\n",
    "    except ValueError as e:\n",
    "        print(\"Error Code:\",e) "
   ]
  },
  {
   "cell_type": "markdown",
   "metadata": {},
   "source": [
    "# Exercise 52 - Built-ins - Zipped!"
   ]
  },
  {
   "cell_type": "code",
   "execution_count": null,
   "metadata": {},
   "outputs": [],
   "source": [
    "n, x = map(int,input().split())\n",
    "l = [0 for i in range(n)]\n",
    "for i in range(x):\n",
    "    temp_l=list(map(float,input().split()))\n",
    "    for j in range(n):\n",
    "        ar[j] += temp_l[j]\n",
    "for i in range(n):\n",
    "    print(l[i]/x)\n"
   ]
  },
  {
   "cell_type": "markdown",
   "metadata": {},
   "source": [
    "# Exercise 53 - Built-ins - Athlete Sort"
   ]
  },
  {
   "cell_type": "code",
   "execution_count": null,
   "metadata": {},
   "outputs": [],
   "source": [
    "I tried to find a solution but I failed"
   ]
  },
  {
   "cell_type": "markdown",
   "metadata": {},
   "source": [
    "# Exercise 54 - Built-ins - Ginorts"
   ]
  },
  {
   "cell_type": "code",
   "execution_count": null,
   "metadata": {},
   "outputs": [],
   "source": [
    "sorted_string = sorted(input())\n",
    "s_lower = ''\n",
    "s_cap = ''\n",
    "s_even = ''\n",
    "s_odd = ''\n",
    "for i in sorted_string:\n",
    "    if i.isupper():\n",
    "        s_cap = s_cap + i\n",
    "    if i.islower():\n",
    "        s_lower = s_lower + i\n",
    "    if i.isnumeric():\n",
    "        if int(i)%2 == 0:\n",
    "            s_even = s_even + i\n",
    "        if int(i)%2 != 0:\n",
    "            s_odd = s_odd + i\n",
    "print(s_lower+s_cap+s_odd+s_even)\n"
   ]
  },
  {
   "cell_type": "markdown",
   "metadata": {},
   "source": [
    "# Exercise 55 - Map and lambda function"
   ]
  },
  {
   "cell_type": "code",
   "execution_count": null,
   "metadata": {},
   "outputs": [],
   "source": [
    "cube = lambda x: x**3\n",
    "\n",
    "def fibonacci(n):\n",
    "    l = [0,1]\n",
    "    for i in range(2,n):\n",
    "        l.append(l[i-2] + l[i-1])\n",
    "    return(l[0:n])"
   ]
  },
  {
   "cell_type": "markdown",
   "metadata": {},
   "source": [
    "# Exercise 56 - Regex - Detect Floating Point Number"
   ]
  },
  {
   "cell_type": "code",
   "execution_count": null,
   "metadata": {},
   "outputs": [],
   "source": [
    "import re\n",
    "pattern = r'^[+-]?[0-9]*\\.[0-9]+$'\n",
    "\n",
    "for i in range(int(input())):\n",
    "    print(bool(re.search(pattern, input())))"
   ]
  },
  {
   "cell_type": "markdown",
   "metadata": {},
   "source": [
    "# Exercise 57 - Regex - Re.split()"
   ]
  },
  {
   "cell_type": "code",
   "execution_count": null,
   "metadata": {},
   "outputs": [],
   "source": [
    "regex_pattern = r\"[.,]\"\t"
   ]
  },
  {
   "cell_type": "markdown",
   "metadata": {},
   "source": [
    "# Exercise 58 - Regex - Group(), Groups() & Groupdict()"
   ]
  },
  {
   "cell_type": "code",
   "execution_count": null,
   "metadata": {},
   "outputs": [],
   "source": [
    "import re\n",
    "s = input()\n",
    "m = re.search(r'([A-Za-z0-9])\\1',s)\n",
    "if m == None:\n",
    "    print(-1)\n",
    "else:\n",
    "    print(m.group(1))"
   ]
  },
  {
   "cell_type": "markdown",
   "metadata": {},
   "source": [
    "# Exercise 59 - Regex - Re.findall() & Re.finditer()"
   ]
  },
  {
   "cell_type": "code",
   "execution_count": null,
   "metadata": {},
   "outputs": [],
   "source": [
    "import re\n",
    "s=input()\n",
    "t=re.findall(r'(?<=[^aeiouh])([aeioug]{2,})(?=[^aehiou])',s,re.I)\n",
    "if len(t)!=0:\n",
    "    for i in t:\n",
    "        print(i)\n",
    "else:\n",
    "    print(\"-1\")"
   ]
  },
  {
   "cell_type": "markdown",
   "metadata": {},
   "source": [
    "# Exercise 60 - Regex - Re.start() & Re.end()"
   ]
  },
  {
   "cell_type": "code",
   "execution_count": null,
   "metadata": {},
   "outputs": [],
   "source": [
    "import re\n",
    "s,k=input(),input()\n",
    "m=re.compile(k)\n",
    "b=0\n",
    "for i in range(len(s)-len(k)+1):\n",
    "    a=m.search(s[i:i+len(k)])\n",
    "    if a:\n",
    "        print (\"(\"+str(a.start()+i)+\", \"+str(a.end()+i-1)+\")\")\n",
    "        b=1\n",
    "if b==0:\n",
    "    print (tuple([-1,-1]))"
   ]
  },
  {
   "cell_type": "markdown",
   "metadata": {},
   "source": [
    "# Exercise 61 - Regex - Regex Substitution"
   ]
  },
  {
   "cell_type": "code",
   "execution_count": null,
   "metadata": {},
   "outputs": [],
   "source": [
    "import re\n",
    "n = int(input())\n",
    "\n",
    "\n",
    "for i in range(n):\n",
    "    line1 = input()\n",
    "    line2 = re.sub('(?<=\\s)&&(?=\\s)', 'and', line1)\n",
    "    final = re.sub(r'(?<=\\s)[|]{2}(?=\\s)', 'or', line2)\n",
    "    print(final_result)\n"
   ]
  },
  {
   "cell_type": "markdown",
   "metadata": {},
   "source": [
    "# Exercise 62 - Regex - Validating Roman Numerals"
   ]
  },
  {
   "cell_type": "code",
   "execution_count": null,
   "metadata": {},
   "outputs": [],
   "source": [
    "regex_pattern = r\"^M{0,3}(CM|CD|D?C{0,3})(XC|XL|L?X{0,3})(IX|IV|V?I{0,3})$\""
   ]
  },
  {
   "cell_type": "markdown",
   "metadata": {},
   "source": [
    "# Exercise 63 - Regex - Validating phone numbers"
   ]
  },
  {
   "cell_type": "code",
   "execution_count": null,
   "metadata": {},
   "outputs": [],
   "source": [
    "import re\n",
    "n = int(input())\n",
    "\n",
    "for i in range(n):\n",
    "    number = input()\n",
    "    isvalid = re.match(r'[789]\\d{9}$',number)\n",
    "    if isvalid != None:\n",
    "        print('YES')\n",
    "    else:\n",
    "        print('NO')   \n"
   ]
  },
  {
   "cell_type": "markdown",
   "metadata": {},
   "source": [
    "# Exercise 64 - Regex - Validating and Parsing Email Addresses"
   ]
  },
  {
   "cell_type": "code",
   "execution_count": null,
   "metadata": {},
   "outputs": [],
   "source": [
    "import re\n",
    "\n",
    "pattern = r'^<[A-Za-z](\\w|-|\\.|_)+@[A-Za-z]+\\.[A-Za-z]{1,3}>$'\n",
    "for i in range(int(input())):\n",
    "    name, email = input().split(' ')\n",
    "    if re.match(pattern, email):\n",
    "        print(name, email)"
   ]
  },
  {
   "cell_type": "markdown",
   "metadata": {},
   "source": [
    "# Exercise 65 - Regex - Hex Color Code"
   ]
  },
  {
   "cell_type": "code",
   "execution_count": null,
   "metadata": {},
   "outputs": [],
   "source": [
    "import re\n",
    "n = int(input())\n",
    "for t in range(n):\n",
    "    string = input()\n",
    "    match_result = re.findall(r'(#[0-9A-Fa-f]{3}|#[0-9A-Fa-f]{6})(?:[;,.)]{1})',string)\n",
    "    for i in match_result:\n",
    "        if i != '':\n",
    "            print(i)"
   ]
  },
  {
   "cell_type": "markdown",
   "metadata": {},
   "source": [
    "# Exercise 66 - Regex - HTML Parser - Part 1"
   ]
  },
  {
   "cell_type": "code",
   "execution_count": null,
   "metadata": {},
   "outputs": [],
   "source": [
    "from html.parser import HTMLParser\n",
    "\n",
    "class MyHTMLParser(HTMLParser):\n",
    "    \n",
    "    def handle_attr(self,attrs):\n",
    "        for attr_val_tuple in attrs:\n",
    "            print('->',attr_val_tuple[0],'>',attr_val_tuple[1])\n",
    "\n",
    "    def handle_starttag(self,tag,attrs):\n",
    "        print(\"Start :\",tag)\n",
    "        self.handle_attr(attrs)\n",
    "\n",
    "    def handle_endtag(self,tag):\n",
    "        print(\"End   :\",tag)\n",
    "\n",
    "    def handle_startendtag(self,tag, attrs):\n",
    "        print(\"Empty :\",tag)\n",
    "        self.handle_attr(attrs)\n",
    "\n",
    "parser = MyHTMLParser()\n",
    "\n",
    "n = int(input())\n",
    "\n",
    "s = ''\n",
    "for i in range(n):\n",
    "    s += input()\n",
    "    \n",
    "parser.feed(s)\n",
    "\n"
   ]
  },
  {
   "cell_type": "markdown",
   "metadata": {},
   "source": [
    "# Exercise 67 - Regex - HTML Parser - Part 2"
   ]
  },
  {
   "cell_type": "raw",
   "metadata": {},
   "source": [
    "I tried but not completed it"
   ]
  },
  {
   "cell_type": "markdown",
   "metadata": {},
   "source": [
    "# Exercise 68 - Regex - Detect HTML Tags, Attributes and Attribute Values"
   ]
  },
  {
   "cell_type": "code",
   "execution_count": null,
   "metadata": {},
   "outputs": [],
   "source": [
    "from html.parser import HTMLParser\n",
    "class MyHTMLParser(HTMLParser):\n",
    "    def handle_starttag(self,tag,attrs):\n",
    "        print(tag)\n",
    "        self.handle_attrs(attrs)\n",
    "    def handle_startendtag(self,tag,attrs):\n",
    "        print(tag)\n",
    "        self.handle_attrs(attrs)\n",
    "    def handle_attrs(self,attrs):\n",
    "        for attrs_pair in attrs:\n",
    "            print('->',attrs_pair[0].strip(),'>',attrs_pair[1].strip())        \n",
    "\n",
    "n = int(input())\n",
    "html_string = ''\n",
    "for i in range(n):\n",
    "    html_string += input()\n",
    "    \n",
    "myHTMLParser = MyHTMLParser()\n",
    "myHTMLParser.feed(html_string)\n",
    "myHTMLParser.close()\n"
   ]
  },
  {
   "cell_type": "markdown",
   "metadata": {},
   "source": [
    "# Exercise 69 - Regex - Validating UID"
   ]
  },
  {
   "cell_type": "code",
   "execution_count": null,
   "metadata": {},
   "outputs": [],
   "source": [
    "import re\n",
    "n = int(input())\n",
    "upper_checker = r'.*([A-Z].*){2,}'\n",
    "digit_checker = r'.*([0-9].*){3,}'\n",
    "alphanumeric_and_length_checker = r'([A-Za-z0-9]){10}$'\n",
    "repetition_checker = r'.*(.).*\\1'\n",
    "for i in range(n):\n",
    "    uid_string = input().strip()\n",
    "    upper_checker_result = bool(re.match(upper_checker,uid_string))\n",
    "    digit_checker_result = bool(re.match(digit_checker,uid_string))\n",
    "    alphanumeric_and_length_checker_result = bool(re.match(alphanumeric_and_length_checker,uid_string))\n",
    "    repetition_checker_result = bool(re.match(repetition_checker,uid_string))    \n",
    "    if upper_checker_result and digit_checker_result and alphanumeric_and_length_checker_result and not repetition_checker_result:\n",
    "        print('Valid')\n",
    "    else:\n",
    "        print('Invalid')\n"
   ]
  },
  {
   "cell_type": "markdown",
   "metadata": {},
   "source": [
    "# Exercise 70 - Regex - Validating Credit Card Numbers"
   ]
  },
  {
   "cell_type": "code",
   "execution_count": null,
   "metadata": {},
   "outputs": [],
   "source": [
    "import re\n",
    "for _ in range(int(input())):\n",
    "    s=input()\n",
    "    banned_char=r'[^0-9-]'\n",
    "    if re.search(banned_char,s) or( not re.match(r'(\\d{4}-)(\\d{4}-)(\\d{4}-)\\d{4}',s) and not re.search(r'\\d{16}',s)):\n",
    "        print(\"Invalid\")\n",
    "    else:\n",
    "        s=re.sub(r'-','',s)\n",
    "        #print(s)\n",
    "        if re.search(r'(\\d)\\1{3}',s) or re.match(r'[^456]',s) or re.match(r'\\d{17,}',s):\n",
    "            print(\"Invalid\")\n",
    "        else:\n",
    "            print(\"Valid\")"
   ]
  },
  {
   "cell_type": "markdown",
   "metadata": {},
   "source": [
    "# Exercise 71 - Regex - Validating Postal Codes"
   ]
  },
  {
   "cell_type": "code",
   "execution_count": null,
   "metadata": {},
   "outputs": [],
   "source": [
    "I tried to resolve it but I failed"
   ]
  },
  {
   "cell_type": "markdown",
   "metadata": {},
   "source": [
    "# Exercise 72 - Regex - Matrix Script"
   ]
  },
  {
   "cell_type": "code",
   "execution_count": null,
   "metadata": {},
   "outputs": [],
   "source": [
    "I tried to resolve it but I failed"
   ]
  },
  {
   "cell_type": "markdown",
   "metadata": {},
   "source": [
    "# Exercise 73 - Xml - XML 1 - Find the Score"
   ]
  },
  {
   "cell_type": "code",
   "execution_count": null,
   "metadata": {},
   "outputs": [],
   "source": [
    "I tried to resolve it but I failed"
   ]
  },
  {
   "cell_type": "markdown",
   "metadata": {},
   "source": [
    "# Exercise 74 - Xml - XML 2 - Find the Maximum Depth"
   ]
  },
  {
   "cell_type": "code",
   "execution_count": null,
   "metadata": {},
   "outputs": [],
   "source": [
    "maxdepth = 0\n",
    "def depth(elem, level):\n",
    "    global maxdepth\n",
    "    if (level == maxdepth):\n",
    "        maxdepth += 1\n",
    "\n",
    "    for child in elem:\n",
    "        depth(child, level + 1)\n"
   ]
  },
  {
   "cell_type": "markdown",
   "metadata": {},
   "source": [
    "# Exercise 75 - Closures and decorators - Standardize Mobile Number Using Decorators"
   ]
  },
  {
   "cell_type": "code",
   "execution_count": null,
   "metadata": {},
   "outputs": [],
   "source": [
    "def wrapper(f):\n",
    "    def fun(l):\n",
    "        # complete the function\n",
    "        for p in sorted([s[-10:] for s in l]) :\n",
    "            print(\"+91 \" + p[0:5] + \" \" + p[5:]) \n",
    "        return\n",
    "    return fun\n",
    "\n"
   ]
  },
  {
   "cell_type": "markdown",
   "metadata": {},
   "source": [
    "# Exercise 76 - Closures and decorators - Decorators 2 - Name Directory"
   ]
  },
  {
   "cell_type": "code",
   "execution_count": null,
   "metadata": {},
   "outputs": [],
   "source": [
    "Only tried it."
   ]
  },
  {
   "cell_type": "markdown",
   "metadata": {},
   "source": [
    "# Exercise 77 - Numpy - Arrays"
   ]
  },
  {
   "cell_type": "code",
   "execution_count": null,
   "metadata": {},
   "outputs": [],
   "source": [
    "def arrays(arr):\n",
    "    return numpy.array(arr[::-1],float)"
   ]
  },
  {
   "cell_type": "markdown",
   "metadata": {},
   "source": [
    "# Exercise 78 - Numpy - Shape and Reshape"
   ]
  },
  {
   "cell_type": "code",
   "execution_count": null,
   "metadata": {},
   "outputs": [],
   "source": [
    "import numpy\n",
    "a = numpy.array(input().split(),int)\n",
    "a.shape=(3,3)\n",
    "print(a)"
   ]
  },
  {
   "cell_type": "markdown",
   "metadata": {},
   "source": [
    "# Exercise 79 - Numpy - Transpose and Flatten"
   ]
  },
  {
   "cell_type": "code",
   "execution_count": null,
   "metadata": {},
   "outputs": [],
   "source": [
    "import numpy\n",
    "n,m = map(int,input().split())\n",
    "my_array = numpy.array([input().split() for i in range(n) ],int)\n",
    "print(numpy.transpose(my_array))\n",
    "print(my_array.flatten())"
   ]
  },
  {
   "cell_type": "markdown",
   "metadata": {},
   "source": [
    "# Exercise 80 - Numpy - Concatenate"
   ]
  },
  {
   "cell_type": "code",
   "execution_count": null,
   "metadata": {},
   "outputs": [],
   "source": [
    "import numpy\n",
    "n,m,p = map(int,input().split())\n",
    "first_array=numpy.array([input().split() for i in range(n)], int)\n",
    "second_array=numpy.array([input().split() for i in range(m)], int)\n",
    "print(numpy.concatenate((first_array,second_array)))"
   ]
  },
  {
   "cell_type": "markdown",
   "metadata": {},
   "source": [
    "# Exercise 81 - Numpy - Zeros and Ones"
   ]
  },
  {
   "cell_type": "code",
   "execution_count": null,
   "metadata": {},
   "outputs": [],
   "source": [
    "import numpy\n",
    "\n",
    "ciccio = list(map(int, input().split()))\n",
    "print (numpy.zeros(ciccio, dtype = numpy.int))\n",
    "print (numpy.ones(ciccio, dtype = numpy.int))\n"
   ]
  },
  {
   "cell_type": "markdown",
   "metadata": {},
   "source": [
    "# Exercise 82 - Numpy - Eye and Identity"
   ]
  },
  {
   "cell_type": "code",
   "execution_count": null,
   "metadata": {},
   "outputs": [],
   "source": [
    "import numpy\n",
    "numpy.set_printoptions(sign=' ')\n",
    "n,m = (map(int,input().split()))\n",
    "print(numpy.eye(n , m))"
   ]
  },
  {
   "cell_type": "markdown",
   "metadata": {},
   "source": [
    "# Exercise 83 - Numpy - Array Mathematics"
   ]
  },
  {
   "cell_type": "code",
   "execution_count": null,
   "metadata": {},
   "outputs": [],
   "source": [
    "import numpy\n",
    "\n",
    "n,m = map(int,input().split())\n",
    "a = numpy.array([input().split() for i in range(n)],int)\n",
    "b = numpy.array([input().split()for i in range(n)],int)\n",
    "print(a+b,a-b,a*b,a//b,a%b,a**b,sep='\\n')"
   ]
  },
  {
   "cell_type": "markdown",
   "metadata": {},
   "source": [
    "# Exercise 84 - Numpy - Floor, Ceil and Rint"
   ]
  },
  {
   "cell_type": "code",
   "execution_count": null,
   "metadata": {},
   "outputs": [],
   "source": [
    "import numpy\n",
    "numpy.set_printoptions(legacy='1.13')\n",
    "a = numpy.array(input().split(),float)\n",
    "print(numpy.floor(a),numpy.ceil(a),numpy.rint(a),sep='\\n')"
   ]
  },
  {
   "cell_type": "markdown",
   "metadata": {},
   "source": [
    "# Exercise 85 - Numpy - Sum and Prod"
   ]
  },
  {
   "cell_type": "code",
   "execution_count": null,
   "metadata": {},
   "outputs": [],
   "source": [
    "import numpy\n",
    "n,m = map(int,input().split())\n",
    "a = numpy.array([input().split()for i in range(n)],int)\n",
    "c =numpy.sum(a,axis=0)\n",
    "print(numpy.prod(c))"
   ]
  },
  {
   "cell_type": "markdown",
   "metadata": {},
   "source": [
    "# Exercise 86 - Numpy - Min and Max"
   ]
  },
  {
   "cell_type": "code",
   "execution_count": null,
   "metadata": {},
   "outputs": [],
   "source": [
    "import numpy\n",
    "n,m = map(int,input().split())\n",
    "a = numpy.array([input().split()for i in range(n)],int)\n",
    "c =numpy.min(a,axis=1)\n",
    "print(numpy.max(c))"
   ]
  },
  {
   "cell_type": "markdown",
   "metadata": {},
   "source": [
    "# Exercise 87 - Numpy - Mean, Var, and Std"
   ]
  },
  {
   "cell_type": "code",
   "execution_count": null,
   "metadata": {},
   "outputs": [],
   "source": [
    "import numpy\n",
    "numpy.set_printoptions(legacy='1.13')\n",
    "\n",
    "\n",
    "n,m = map(int,input().split())\n",
    "a = numpy.array([input().split()for i in range(n)],int)\n",
    "print(numpy.mean(a,axis=1))\n",
    "print(numpy.var(a,axis = 0))\n",
    "print(numpy.std(a))\n",
    "\n"
   ]
  },
  {
   "cell_type": "markdown",
   "metadata": {},
   "source": [
    "# Exercise 88 - Numpy - Dot and Cross"
   ]
  },
  {
   "cell_type": "code",
   "execution_count": null,
   "metadata": {},
   "outputs": [],
   "source": [
    "import numpy\n",
    "\n",
    "\n",
    "\n",
    "n=int(input())\n",
    "\n",
    "a=numpy.array([input().split() for i in range(n)],int)\n",
    "\n",
    "b=numpy.array([input().split() for i in range(n)],int)\n",
    "\n",
    "print(numpy.dot(a,b))\n",
    "\n",
    "\n"
   ]
  },
  {
   "cell_type": "markdown",
   "metadata": {},
   "source": [
    "# Exercise 89 - Numpy - Inner and Outer"
   ]
  },
  {
   "cell_type": "code",
   "execution_count": null,
   "metadata": {},
   "outputs": [],
   "source": [
    "import numpy\n",
    "\n",
    "\n",
    "A = numpy.array(input().split(), int)\n",
    "B = numpy.array(input().split(), int)\n",
    "print(numpy.inner(A,B), numpy.outer(A,B), sep='\\n')\n",
    "\n"
   ]
  },
  {
   "cell_type": "markdown",
   "metadata": {},
   "source": [
    "# Exercise 90 - Numpy - Polynomials"
   ]
  },
  {
   "cell_type": "code",
   "execution_count": null,
   "metadata": {},
   "outputs": [],
   "source": [
    "import numpy\n",
    "p = list(map(float,input().split()))\n",
    "x = float(input())\n",
    "print(numpy.polyval(p,x))"
   ]
  },
  {
   "cell_type": "markdown",
   "metadata": {},
   "source": [
    "# Exercise 91 - Numpy - Linear Algebra"
   ]
  },
  {
   "cell_type": "code",
   "execution_count": null,
   "metadata": {},
   "outputs": [],
   "source": [
    "import numpy\n",
    "\n",
    "n=int(input())\n",
    "a=numpy.array([input().split() for i in range(n)],float)\n",
    "\n",
    "print(numpy.around(numpy.linalg.det(a), decimals=2)))"
   ]
  },
  {
   "cell_type": "markdown",
   "metadata": {},
   "source": [
    "# ===== PROBLEM2 ====="
   ]
  },
  {
   "cell_type": "markdown",
   "metadata": {},
   "source": [
    "# Exercise 92 - Challenges - Birthday Cake Candles"
   ]
  },
  {
   "cell_type": "code",
   "execution_count": null,
   "metadata": {},
   "outputs": [],
   "source": [
    "def birthdayCakeCandles(ar):\n",
    "    return ar.count(max(ar))\n",
    "\n",
    "if __name__ == '__main__':\n",
    "    fptr = open(os.environ['OUTPUT_PATH'], 'w')\n",
    "\n",
    "    ar_count = int(input())\n",
    "\n",
    "    ar = list(map(int, input().rstrip().split()))\n",
    "\n",
    "    result = birthdayCakeCandles(ar)\n",
    "\n",
    "    fptr.write(str(result) + '\\n')\n",
    "\n",
    "    fptr.close()\n"
   ]
  },
  {
   "cell_type": "markdown",
   "metadata": {},
   "source": [
    "# Exercise 93 - Challenges - Kangaroo"
   ]
  },
  {
   "cell_type": "code",
   "execution_count": null,
   "metadata": {},
   "outputs": [],
   "source": [
    "def kangaroo(x1, v1, x2, v2):\n",
    "    if (x1< x2 and v1 < v2) or (x1>x2 and v1>v2):\n",
    "        return 'NO'\n",
    "    elif (v1-v2)==0:\n",
    "        return 'NO'    \n",
    "    elif (x1-x2)%(v1-v2)==0:\n",
    "        \n",
    "        return 'YES'\n",
    "    else:\n",
    "        return 'NO'        \n",
    "\n",
    "if __name__ == '__main__':\n",
    "    fptr = open(os.environ['OUTPUT_PATH'], 'w')\n",
    "\n",
    "    x1V1X2V2 = input().split()\n",
    "\n",
    "    x1 = int(x1V1X2V2[0])\n",
    "\n",
    "    v1 = int(x1V1X2V2[1])\n",
    "\n",
    "    x2 = int(x1V1X2V2[2])\n",
    "\n",
    "    v2 = int(x1V1X2V2[3])\n",
    "\n",
    "    result = kangaroo(x1, v1, x2, v2)\n",
    "\n",
    "    fptr.write(result + '\\n')\n",
    "\n",
    "    fptr.close()\n"
   ]
  },
  {
   "cell_type": "markdown",
   "metadata": {},
   "source": [
    "# Exercise 94 - Challenges - Viral Advertising"
   ]
  },
  {
   "cell_type": "code",
   "execution_count": null,
   "metadata": {},
   "outputs": [],
   "source": [
    "def viralAdvertising(n):\n",
    "    \n",
    "    people=5\n",
    "    \n",
    "    number_of_likes=0\n",
    "    for i in range(1,n+1):\n",
    "        \n",
    "        if people%2==0:\n",
    "            \n",
    "            number_of_likes+=people//2\n",
    "            people=(people//2)*3\n",
    "        else:\n",
    "            \n",
    "            number_of_likes+= (people-1)//2\n",
    "            people=((people-1)//2)*3\n",
    "    return number_of_likes    \n",
    "print(viralAdvertising(3))     \n",
    "    \n",
    "\n",
    "    \n",
    "    \n",
    "\n",
    "if __name__ == '__main__':\n",
    "    fptr = open(os.environ['OUTPUT_PATH'], 'w')\n",
    "\n",
    "    n = int(input())\n",
    "\n",
    "    result = viralAdvertising(n)\n",
    "\n",
    "    fptr.write(str(result) + '\\n')\n",
    "\n",
    "    fptr.close()\n"
   ]
  },
  {
   "cell_type": "markdown",
   "metadata": {},
   "source": [
    "# Exercise 95 - Challenges - Recursive Digit Sum"
   ]
  },
  {
   "cell_type": "code",
   "execution_count": null,
   "metadata": {},
   "outputs": [],
   "source": [
    "def superDigit(n, k):\n",
    "    p = str(n)\n",
    "    c = (sum([ int(char) for char in p ]))*k\n",
    "    if len(str(c))==1:\n",
    "        return c\n",
    "    else:    \n",
    "        result =superDigit(c, 1)\n",
    "        solution=result\n",
    "        return solution\n",
    "\n",
    "    \n",
    "\n",
    "if __name__ == '__main__':\n",
    "    fptr = open(os.environ['OUTPUT_PATH'], 'w')\n",
    "\n",
    "    nk = input().split()\n",
    "\n",
    "    n = nk[0]\n",
    "\n",
    "    k = int(nk[1])\n",
    "\n",
    "    result = superDigit(n, k)\n",
    "\n",
    "    fptr.write(str(result) + '\\n')\n",
    "\n",
    "    fptr.close()\n"
   ]
  },
  {
   "cell_type": "markdown",
   "metadata": {},
   "source": [
    "# Exercise 96 - Challenges - Insertion Sort - Part 1"
   ]
  },
  {
   "cell_type": "code",
   "execution_count": null,
   "metadata": {},
   "outputs": [],
   "source": [
    "def insertionSort1(n, arr):\n",
    "    key=arr[-1]\n",
    "    for i in range(n-1,-1,-1):\n",
    "        if arr[i] > key:\n",
    "            arr[i+1] = arr[i]\n",
    "            print(' '.join(map(str, arr)))\n",
    "            \n",
    "        if arr[i] < key:\n",
    "            arr[i+1] = key\n",
    "            print(' '.join(map(str, arr)))\n",
    "            break\n",
    "        if arr[0]==arr[1]:\n",
    "            arr[0]=key\n",
    "            print(' '.join(map(str, arr)))\n",
    "            \n",
    "\n",
    "            \n",
    "     \n",
    "\n",
    "if __name__ == '__main__':\n",
    "    n = int(input())\n",
    "\n",
    "    arr = list(map(int, input().rstrip().split()))\n",
    "\n",
    "    insertionSort1(n, arr)\n"
   ]
  },
  {
   "cell_type": "markdown",
   "metadata": {},
   "source": [
    "# Exercise 97 - Challenges - Insertion Sort - Part 2"
   ]
  },
  {
   "cell_type": "code",
   "execution_count": null,
   "metadata": {},
   "outputs": [],
   "source": [
    "def insertionSort2(n, arr):\n",
    "    for i in range(1,n):\n",
    "        key = arr[i]\n",
    "        j = i-1\n",
    "        while key < arr[j] and j>= 0 :\n",
    "            arr[j+1] = arr[j]\n",
    "            j -= 1\n",
    "        arr[j+1] = key\n",
    "            \n",
    "            \n",
    "        print(' '.join(map(str, arr)))\n",
    "        \n",
    "\n",
    "if __name__ == '__main__':\n",
    "    n = int(input())\n",
    "\n",
    "    arr = list(map(int, input().rstrip().split()))\n",
    "\n",
    "    insertionSort2(n, arr)\n"
   ]
  }
 ],
 "metadata": {
  "kernelspec": {
   "display_name": "Python 3",
   "language": "python",
   "name": "python3"
  },
  "language_info": {
   "codemirror_mode": {
    "name": "ipython",
    "version": 3
   },
   "file_extension": ".py",
   "mimetype": "text/x-python",
   "name": "python",
   "nbconvert_exporter": "python",
   "pygments_lexer": "ipython3",
   "version": "3.7.3"
  }
 },
 "nbformat": 4,
 "nbformat_minor": 2
}
